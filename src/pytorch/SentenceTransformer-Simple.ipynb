{
 "cells": [
  {
   "cell_type": "code",
   "execution_count": 1,
   "id": "7d8d6001-5608-4a49-987b-be228eb16962",
   "metadata": {},
   "outputs": [
    {
     "name": "stdout",
     "output_type": "stream",
     "text": [
      "Collecting sentence-transformers\n",
      "  Downloading sentence_transformers-3.0.0-py3-none-any.whl.metadata (10 kB)\n",
      "Requirement already satisfied: transformers<5.0.0,>=4.34.0 in /usr/local/lib/python3.11/dist-packages (from sentence-transformers) (4.41.1)\n",
      "Requirement already satisfied: tqdm in /usr/local/lib/python3.11/dist-packages (from sentence-transformers) (4.66.4)\n",
      "Requirement already satisfied: torch>=1.11.0 in /usr/local/lib/python3.11/dist-packages (from sentence-transformers) (2.3.0)\n",
      "Requirement already satisfied: numpy in /usr/local/lib/python3.11/dist-packages (from sentence-transformers) (1.26.4)\n",
      "Collecting scikit-learn (from sentence-transformers)\n",
      "  Downloading scikit_learn-1.5.0-cp311-cp311-manylinux_2_17_x86_64.manylinux2014_x86_64.whl.metadata (11 kB)\n",
      "Requirement already satisfied: scipy in /usr/local/lib/python3.11/dist-packages (from sentence-transformers) (1.13.1)\n",
      "Requirement already satisfied: huggingface-hub>=0.15.1 in /usr/local/lib/python3.11/dist-packages (from sentence-transformers) (0.23.2)\n",
      "Requirement already satisfied: Pillow in /usr/local/lib/python3.11/dist-packages (from sentence-transformers) (10.3.0)\n",
      "Requirement already satisfied: filelock in /usr/local/lib/python3.11/dist-packages (from huggingface-hub>=0.15.1->sentence-transformers) (3.14.0)\n",
      "Requirement already satisfied: fsspec>=2023.5.0 in /usr/local/lib/python3.11/dist-packages (from huggingface-hub>=0.15.1->sentence-transformers) (2024.5.0)\n",
      "Requirement already satisfied: packaging>=20.9 in /usr/local/lib/python3.11/dist-packages (from huggingface-hub>=0.15.1->sentence-transformers) (23.2)\n",
      "Requirement already satisfied: pyyaml>=5.1 in /usr/local/lib/python3.11/dist-packages (from huggingface-hub>=0.15.1->sentence-transformers) (6.0.1)\n",
      "Requirement already satisfied: requests in /usr/local/lib/python3.11/dist-packages (from huggingface-hub>=0.15.1->sentence-transformers) (2.31.0)\n",
      "Requirement already satisfied: typing-extensions>=3.7.4.3 in /usr/local/lib/python3.11/dist-packages (from huggingface-hub>=0.15.1->sentence-transformers) (4.10.0)\n",
      "Requirement already satisfied: sympy in /usr/local/lib/python3.11/dist-packages (from torch>=1.11.0->sentence-transformers) (1.12)\n",
      "Requirement already satisfied: networkx in /usr/local/lib/python3.11/dist-packages (from torch>=1.11.0->sentence-transformers) (3.3)\n",
      "Requirement already satisfied: jinja2 in /usr/local/lib/python3.11/dist-packages (from torch>=1.11.0->sentence-transformers) (3.1.4)\n",
      "Requirement already satisfied: nvidia-cuda-nvrtc-cu12==12.1.105 in /usr/local/lib/python3.11/dist-packages (from torch>=1.11.0->sentence-transformers) (12.1.105)\n",
      "Requirement already satisfied: nvidia-cuda-runtime-cu12==12.1.105 in /usr/local/lib/python3.11/dist-packages (from torch>=1.11.0->sentence-transformers) (12.1.105)\n",
      "Requirement already satisfied: nvidia-cuda-cupti-cu12==12.1.105 in /usr/local/lib/python3.11/dist-packages (from torch>=1.11.0->sentence-transformers) (12.1.105)\n",
      "Requirement already satisfied: nvidia-cudnn-cu12==8.9.2.26 in /usr/local/lib/python3.11/dist-packages (from torch>=1.11.0->sentence-transformers) (8.9.2.26)\n",
      "Requirement already satisfied: nvidia-cublas-cu12==12.1.3.1 in /usr/local/lib/python3.11/dist-packages (from torch>=1.11.0->sentence-transformers) (12.1.3.1)\n",
      "Requirement already satisfied: nvidia-cufft-cu12==11.0.2.54 in /usr/local/lib/python3.11/dist-packages (from torch>=1.11.0->sentence-transformers) (11.0.2.54)\n",
      "Requirement already satisfied: nvidia-curand-cu12==10.3.2.106 in /usr/local/lib/python3.11/dist-packages (from torch>=1.11.0->sentence-transformers) (10.3.2.106)\n",
      "Requirement already satisfied: nvidia-cusolver-cu12==11.4.5.107 in /usr/local/lib/python3.11/dist-packages (from torch>=1.11.0->sentence-transformers) (11.4.5.107)\n",
      "Requirement already satisfied: nvidia-cusparse-cu12==12.1.0.106 in /usr/local/lib/python3.11/dist-packages (from torch>=1.11.0->sentence-transformers) (12.1.0.106)\n",
      "Requirement already satisfied: nvidia-nccl-cu12==2.20.5 in /usr/local/lib/python3.11/dist-packages (from torch>=1.11.0->sentence-transformers) (2.20.5)\n",
      "Requirement already satisfied: nvidia-nvtx-cu12==12.1.105 in /usr/local/lib/python3.11/dist-packages (from torch>=1.11.0->sentence-transformers) (12.1.105)\n",
      "Requirement already satisfied: triton==2.3.0 in /usr/local/lib/python3.11/dist-packages (from torch>=1.11.0->sentence-transformers) (2.3.0)\n",
      "Requirement already satisfied: nvidia-nvjitlink-cu12 in /usr/local/lib/python3.11/dist-packages (from nvidia-cusolver-cu12==11.4.5.107->torch>=1.11.0->sentence-transformers) (12.5.40)\n",
      "Requirement already satisfied: regex!=2019.12.17 in /usr/local/lib/python3.11/dist-packages (from transformers<5.0.0,>=4.34.0->sentence-transformers) (2024.5.15)\n",
      "Requirement already satisfied: tokenizers<0.20,>=0.19 in /usr/local/lib/python3.11/dist-packages (from transformers<5.0.0,>=4.34.0->sentence-transformers) (0.19.1)\n",
      "Requirement already satisfied: safetensors>=0.4.1 in /usr/local/lib/python3.11/dist-packages (from transformers<5.0.0,>=4.34.0->sentence-transformers) (0.4.3)\n",
      "Collecting joblib>=1.2.0 (from scikit-learn->sentence-transformers)\n",
      "  Downloading joblib-1.4.2-py3-none-any.whl.metadata (5.4 kB)\n",
      "Collecting threadpoolctl>=3.1.0 (from scikit-learn->sentence-transformers)\n",
      "  Downloading threadpoolctl-3.5.0-py3-none-any.whl.metadata (13 kB)\n",
      "Requirement already satisfied: MarkupSafe>=2.0 in /usr/local/lib/python3.11/dist-packages (from jinja2->torch>=1.11.0->sentence-transformers) (2.1.5)\n",
      "Requirement already satisfied: charset-normalizer<4,>=2 in /usr/local/lib/python3.11/dist-packages (from requests->huggingface-hub>=0.15.1->sentence-transformers) (3.3.2)\n",
      "Requirement already satisfied: idna<4,>=2.5 in /usr/local/lib/python3.11/dist-packages (from requests->huggingface-hub>=0.15.1->sentence-transformers) (3.6)\n",
      "Requirement already satisfied: urllib3<3,>=1.21.1 in /usr/local/lib/python3.11/dist-packages (from requests->huggingface-hub>=0.15.1->sentence-transformers) (2.2.1)\n",
      "Requirement already satisfied: certifi>=2017.4.17 in /usr/local/lib/python3.11/dist-packages (from requests->huggingface-hub>=0.15.1->sentence-transformers) (2024.2.2)\n",
      "Requirement already satisfied: mpmath>=0.19 in /usr/local/lib/python3.11/dist-packages (from sympy->torch>=1.11.0->sentence-transformers) (1.3.0)\n",
      "Downloading sentence_transformers-3.0.0-py3-none-any.whl (224 kB)\n",
      "\u001b[2K   \u001b[90m━━━━━━━━━━━━━━━━━━━━━━━━━━━━━━━━━━━━━━━━\u001b[0m \u001b[32m224.7/224.7 kB\u001b[0m \u001b[31m2.1 MB/s\u001b[0m eta \u001b[36m0:00:00\u001b[0ma \u001b[36m0:00:01\u001b[0m\n",
      "\u001b[?25hDownloading scikit_learn-1.5.0-cp311-cp311-manylinux_2_17_x86_64.manylinux2014_x86_64.whl (13.3 MB)\n",
      "\u001b[2K   \u001b[90m━━━━━━━━━━━━━━━━━━━━━━━━━━━━━━━━━━━━━━━━\u001b[0m \u001b[32m13.3/13.3 MB\u001b[0m \u001b[31m37.3 MB/s\u001b[0m eta \u001b[36m0:00:00\u001b[0m00:01\u001b[0m00:01\u001b[0m\n",
      "\u001b[?25hDownloading joblib-1.4.2-py3-none-any.whl (301 kB)\n",
      "\u001b[2K   \u001b[90m━━━━━━━━━━━━━━━━━━━━━━━━━━━━━━━━━━━━━━━━\u001b[0m \u001b[32m301.8/301.8 kB\u001b[0m \u001b[31m15.8 MB/s\u001b[0m eta \u001b[36m0:00:00\u001b[0m\n",
      "\u001b[?25hDownloading threadpoolctl-3.5.0-py3-none-any.whl (18 kB)\n",
      "Installing collected packages: threadpoolctl, joblib, scikit-learn, sentence-transformers\n",
      "Successfully installed joblib-1.4.2 scikit-learn-1.5.0 sentence-transformers-3.0.0 threadpoolctl-3.5.0\n",
      "\u001b[33mWARNING: Running pip as the 'root' user can result in broken permissions and conflicting behaviour with the system package manager. It is recommended to use a virtual environment instead: https://pip.pypa.io/warnings/venv\u001b[0m\u001b[33m\n",
      "\u001b[0mNote: you may need to restart the kernel to use updated packages.\n"
     ]
    }
   ],
   "source": [
    "pip install sentence-transformers"
   ]
  },
  {
   "cell_type": "code",
   "execution_count": 2,
   "id": "2a181848-e25f-4234-a7aa-9ca16d51e80e",
   "metadata": {},
   "outputs": [
    {
     "name": "stderr",
     "output_type": "stream",
     "text": [
      "/usr/local/lib/python3.11/dist-packages/sentence_transformers/cross_encoder/CrossEncoder.py:11: TqdmExperimentalWarning: Using `tqdm.autonotebook.tqdm` in notebook mode. Use `tqdm.tqdm` instead to force console mode (e.g. in jupyter console)\n",
      "  from tqdm.autonotebook import tqdm, trange\n",
      "2024-05-28 17:29:31.753542: I tensorflow/core/util/port.cc:113] oneDNN custom operations are on. You may see slightly different numerical results due to floating-point round-off errors from different computation orders. To turn them off, set the environment variable `TF_ENABLE_ONEDNN_OPTS=0`.\n",
      "2024-05-28 17:29:31.771901: I tensorflow/core/platform/cpu_feature_guard.cc:210] This TensorFlow binary is optimized to use available CPU instructions in performance-critical operations.\n",
      "To enable the following instructions: AVX2 AVX_VNNI FMA, in other operations, rebuild TensorFlow with the appropriate compiler flags.\n"
     ]
    },
    {
     "data": {
      "application/vnd.jupyter.widget-view+json": {
       "model_id": "6fd5c15313d14dec890dc804bbe324e9",
       "version_major": 2,
       "version_minor": 0
      },
      "text/plain": [
       "modules.json:   0%|          | 0.00/349 [00:00<?, ?B/s]"
      ]
     },
     "metadata": {},
     "output_type": "display_data"
    },
    {
     "data": {
      "application/vnd.jupyter.widget-view+json": {
       "model_id": "b5c5c02fe80a4833a641f2a477cfafa2",
       "version_major": 2,
       "version_minor": 0
      },
      "text/plain": [
       "config_sentence_transformers.json:   0%|          | 0.00/116 [00:00<?, ?B/s]"
      ]
     },
     "metadata": {},
     "output_type": "display_data"
    },
    {
     "data": {
      "application/vnd.jupyter.widget-view+json": {
       "model_id": "6e291279dca64fcb959f89ef261e6895",
       "version_major": 2,
       "version_minor": 0
      },
      "text/plain": [
       "README.md:   0%|          | 0.00/10.7k [00:00<?, ?B/s]"
      ]
     },
     "metadata": {},
     "output_type": "display_data"
    },
    {
     "data": {
      "application/vnd.jupyter.widget-view+json": {
       "model_id": "ed93125deb9e4c28ae49c4ab93445c34",
       "version_major": 2,
       "version_minor": 0
      },
      "text/plain": [
       "sentence_bert_config.json:   0%|          | 0.00/53.0 [00:00<?, ?B/s]"
      ]
     },
     "metadata": {},
     "output_type": "display_data"
    },
    {
     "name": "stderr",
     "output_type": "stream",
     "text": [
      "/usr/local/lib/python3.11/dist-packages/huggingface_hub/file_download.py:1132: FutureWarning: `resume_download` is deprecated and will be removed in version 1.0.0. Downloads always resume when possible. If you want to force a new download, use `force_download=True`.\n",
      "  warnings.warn(\n"
     ]
    },
    {
     "data": {
      "application/vnd.jupyter.widget-view+json": {
       "model_id": "2563c6a4033543b4a35759f3b86dfc47",
       "version_major": 2,
       "version_minor": 0
      },
      "text/plain": [
       "config.json:   0%|          | 0.00/612 [00:00<?, ?B/s]"
      ]
     },
     "metadata": {},
     "output_type": "display_data"
    },
    {
     "data": {
      "application/vnd.jupyter.widget-view+json": {
       "model_id": "31a357be45f243ea94212a363678ad88",
       "version_major": 2,
       "version_minor": 0
      },
      "text/plain": [
       "model.safetensors:   0%|          | 0.00/90.9M [00:00<?, ?B/s]"
      ]
     },
     "metadata": {},
     "output_type": "display_data"
    },
    {
     "data": {
      "application/vnd.jupyter.widget-view+json": {
       "model_id": "0494974b9bbc4e11bc644b72eb21e802",
       "version_major": 2,
       "version_minor": 0
      },
      "text/plain": [
       "tokenizer_config.json:   0%|          | 0.00/350 [00:00<?, ?B/s]"
      ]
     },
     "metadata": {},
     "output_type": "display_data"
    },
    {
     "data": {
      "application/vnd.jupyter.widget-view+json": {
       "model_id": "edecd7429a0947d2a9ba90b387874565",
       "version_major": 2,
       "version_minor": 0
      },
      "text/plain": [
       "vocab.txt:   0%|          | 0.00/232k [00:00<?, ?B/s]"
      ]
     },
     "metadata": {},
     "output_type": "display_data"
    },
    {
     "data": {
      "application/vnd.jupyter.widget-view+json": {
       "model_id": "acc09eb29c524d9a88f1cc590a62b54b",
       "version_major": 2,
       "version_minor": 0
      },
      "text/plain": [
       "tokenizer.json:   0%|          | 0.00/466k [00:00<?, ?B/s]"
      ]
     },
     "metadata": {},
     "output_type": "display_data"
    },
    {
     "data": {
      "application/vnd.jupyter.widget-view+json": {
       "model_id": "393d32adbb87419b8a1e64faabb42817",
       "version_major": 2,
       "version_minor": 0
      },
      "text/plain": [
       "special_tokens_map.json:   0%|          | 0.00/112 [00:00<?, ?B/s]"
      ]
     },
     "metadata": {},
     "output_type": "display_data"
    },
    {
     "data": {
      "application/vnd.jupyter.widget-view+json": {
       "model_id": "fc6074d3f96c4b14bcbf9492a1f54b54",
       "version_major": 2,
       "version_minor": 0
      },
      "text/plain": [
       "1_Pooling/config.json:   0%|          | 0.00/190 [00:00<?, ?B/s]"
      ]
     },
     "metadata": {},
     "output_type": "display_data"
    },
    {
     "name": "stdout",
     "output_type": "stream",
     "text": [
      "[[ 6.76568747e-02  6.34958893e-02  4.87130918e-02  7.93049634e-02\n",
      "   3.74480635e-02  2.65279156e-03  3.93749624e-02 -7.09843310e-03\n",
      "   5.93614280e-02  3.15370113e-02  6.00980744e-02 -5.29051796e-02\n",
      "   4.06067744e-02 -2.59308126e-02  2.98428331e-02  1.12690555e-03\n",
      "   7.35148862e-02 -5.03819399e-02 -1.22386619e-01  2.37028506e-02\n",
      "   2.97265127e-02  4.24768664e-02  2.56337617e-02  1.99516979e-03\n",
      "  -5.69191203e-02 -2.71598138e-02 -3.29035893e-02  6.60248473e-02\n",
      "   1.19007148e-01 -4.58791256e-02 -7.26214871e-02 -3.25839370e-02\n",
      "   5.23414202e-02  4.50552851e-02  8.25298578e-03  3.67023796e-02\n",
      "  -1.39415348e-02  6.53918907e-02 -2.64272615e-02  2.06381184e-04\n",
      "  -1.36643257e-02 -3.62809934e-02 -1.95043553e-02 -2.89738476e-02\n",
      "   3.94270271e-02 -8.84090886e-02  2.62425840e-03  1.36713935e-02\n",
      "   4.83063273e-02 -3.11566070e-02 -1.17329195e-01 -5.11690341e-02\n",
      "  -8.85287896e-02 -2.18962487e-02  1.42986784e-02  4.44167703e-02\n",
      "  -1.34815173e-02  7.43392482e-02  2.66382713e-02 -1.98762342e-02\n",
      "   1.79191157e-02 -1.06052458e-02 -9.04263332e-02  2.13268921e-02\n",
      "   1.41204849e-01 -6.47172472e-03 -1.40386773e-03 -1.53610278e-02\n",
      "  -8.73572007e-02  7.22173750e-02  2.01403219e-02  4.25587296e-02\n",
      "  -3.49014103e-02  3.19592335e-04 -8.02970529e-02 -3.27472240e-02\n",
      "   2.85268500e-02 -5.13658114e-02  1.09389216e-01  8.19328427e-02\n",
      "  -9.84040126e-02 -9.34095532e-02 -1.51292384e-02  4.51248102e-02\n",
      "   4.94172052e-02 -2.51868125e-02  1.57077350e-02 -1.29290730e-01\n",
      "   5.31894714e-03  4.02345741e-03 -2.34572496e-02 -6.72982857e-02\n",
      "   2.92280875e-02 -2.60845292e-02  1.30625162e-02 -3.11663393e-02\n",
      "  -4.82713468e-02 -5.58859482e-02 -3.87505107e-02  1.20010808e-01\n",
      "  -1.03924451e-02  4.89705354e-02  5.53537458e-02  4.49359156e-02\n",
      "  -4.00970690e-03 -1.02959797e-01 -2.92968955e-02 -5.83402030e-02\n",
      "   2.70472411e-02 -2.20169500e-02 -7.22241327e-02 -4.13870104e-02\n",
      "  -1.93298329e-02  2.73325690e-03  2.76969222e-04 -9.67588052e-02\n",
      "  -1.00574754e-01 -1.41922710e-02 -8.07891414e-02  4.53925319e-02\n",
      "   2.45041214e-02  5.97613752e-02 -7.38185495e-02  1.19843651e-02\n",
      "  -6.63403720e-02 -7.69045129e-02  3.85157391e-02 -5.59362146e-33\n",
      "   2.80014165e-02 -5.60784638e-02 -4.86601815e-02  2.15569381e-02\n",
      "   6.01981021e-02 -4.81403023e-02 -3.50247063e-02  1.93314031e-02\n",
      "  -1.75152086e-02 -3.89210284e-02 -3.81062436e-03 -1.70288123e-02\n",
      "   2.82099918e-02  1.28290486e-02  4.71601300e-02  6.21029623e-02\n",
      "  -6.43588975e-02  1.29285648e-01 -1.31231379e-02  5.23069687e-02\n",
      "  -3.73680890e-02  2.89094131e-02 -1.68981180e-02 -2.37330683e-02\n",
      "  -3.33491713e-02 -5.16762659e-02  1.55356983e-02  2.08803117e-02\n",
      "  -1.25371199e-02  4.59579043e-02  3.72720473e-02  2.80566979e-02\n",
      "  -5.90005219e-02 -1.16988569e-02  4.92182299e-02  4.70329113e-02\n",
      "   7.35487789e-02 -3.70529965e-02  3.98463244e-03  1.06412461e-02\n",
      "  -1.61542121e-04 -5.27165830e-02  2.75927391e-02 -3.92921641e-02\n",
      "   8.44717473e-02  4.86860760e-02 -4.85875132e-03  1.79948173e-02\n",
      "  -4.28570285e-02  1.23375487e-02  6.39957702e-03  4.04823013e-02\n",
      "   1.48887159e-02 -1.53941261e-02  7.62947649e-02  2.37044040e-02\n",
      "   4.45237234e-02  5.08195609e-02 -2.31251004e-03 -1.88737139e-02\n",
      "  -1.23335449e-02  4.66002189e-02 -5.63438013e-02  6.29927143e-02\n",
      "  -3.15535031e-02  3.24912183e-02  2.34673414e-02 -6.55437782e-02\n",
      "   2.01709755e-02  2.57082842e-02 -1.23868715e-02 -8.36499501e-03\n",
      "  -6.64377883e-02  9.43073556e-02 -3.57092656e-02 -3.42483036e-02\n",
      "  -6.66355388e-03 -8.01526383e-03 -3.09711043e-02  4.33012508e-02\n",
      "  -8.21394939e-03 -1.50795028e-01  3.07692252e-02  4.00718711e-02\n",
      "  -3.79293375e-02  1.93212077e-03  4.00530659e-02 -8.77074823e-02\n",
      "  -3.68491933e-02  8.57953634e-03 -3.19251865e-02 -1.25258202e-02\n",
      "   7.35539123e-02  1.34739280e-03  2.05919333e-02  2.71098183e-33\n",
      "  -5.18576801e-02  5.78360781e-02 -9.18985233e-02  3.94421816e-02\n",
      "   1.05576545e-01 -1.96911879e-02  6.18402362e-02 -7.63464794e-02\n",
      "   2.40880381e-02  9.40049440e-02 -1.16535470e-01  3.71198729e-02\n",
      "   5.22425547e-02 -3.95851443e-03  5.72214723e-02  5.32855466e-03\n",
      "   1.24016829e-01  1.39022581e-02 -1.10249827e-02  3.56053412e-02\n",
      "  -3.30754742e-02  8.16574171e-02 -1.52003784e-02  6.05584942e-02\n",
      "  -6.01397492e-02  3.26102562e-02 -3.48296538e-02 -1.69882029e-02\n",
      "  -9.74907726e-02 -2.71483753e-02  1.74705253e-03 -7.68982470e-02\n",
      "  -4.31858264e-02 -1.89985260e-02 -2.91661117e-02  5.77488318e-02\n",
      "   2.41821259e-02 -1.16901873e-02 -6.21434785e-02  2.84351651e-02\n",
      "  -2.37517437e-04 -2.51783710e-02  4.39635897e-03  8.12839866e-02\n",
      "   3.64184231e-02 -6.04006313e-02 -3.65517139e-02 -7.93748125e-02\n",
      "  -5.08528156e-03  6.69699088e-02 -1.17784396e-01  3.23743783e-02\n",
      "  -4.71252501e-02 -1.34460051e-02 -9.48445424e-02  8.24946631e-03\n",
      "  -1.06748389e-02 -6.81882128e-02  1.11815392e-03  2.48019863e-02\n",
      "  -6.35889173e-02  2.84492690e-02 -2.61303429e-02  8.58111233e-02\n",
      "   1.14682272e-01 -5.35345487e-02 -5.63588440e-02  4.26008515e-02\n",
      "   1.09454067e-02  2.09578723e-02  1.00131191e-01  3.26051116e-02\n",
      "  -1.84208781e-01 -3.93208452e-02 -6.91454932e-02 -6.38105273e-02\n",
      "  -6.56385869e-02 -6.41254103e-03 -4.79612574e-02 -7.68133178e-02\n",
      "   2.95384601e-02 -2.29948517e-02  4.17036600e-02 -2.50047632e-02\n",
      "  -4.54506930e-03 -4.17136997e-02 -1.32289231e-02 -6.38357326e-02\n",
      "  -2.46472214e-03 -1.37337511e-02  1.68976393e-02 -6.30398616e-02\n",
      "   8.98880735e-02  4.18170914e-02 -1.85687505e-02 -1.80442168e-08\n",
      "  -1.67998020e-02 -3.21578160e-02  6.30384088e-02 -4.13092040e-02\n",
      "   4.44819108e-02  2.02467991e-03  6.29592612e-02 -5.17373905e-03\n",
      "  -1.00444052e-02 -3.05640623e-02  3.52672525e-02  5.58581389e-02\n",
      "  -4.67124917e-02  3.45102623e-02  3.29577662e-02  4.30114679e-02\n",
      "   2.94361245e-02 -3.03164236e-02 -1.71107613e-02  7.37485141e-02\n",
      "  -5.47909550e-02  2.77515072e-02  6.20169332e-03  1.58800613e-02\n",
      "   3.42978835e-02 -5.15751168e-03  2.35079620e-02  7.53135383e-02\n",
      "   1.92843545e-02  3.36196162e-02  5.09103686e-02  1.52497128e-01\n",
      "   1.64207947e-02  2.70528384e-02  3.75162885e-02  2.18553618e-02\n",
      "   5.66333905e-02 -3.95747162e-02  7.12313429e-02 -5.41377477e-02\n",
      "   1.03773619e-03  2.11852621e-02 -3.56308557e-02  1.09016992e-01\n",
      "   2.76527368e-03  3.13997716e-02  1.38418318e-03 -3.45738381e-02\n",
      "  -4.59277518e-02  2.88083032e-02  7.16904551e-03  4.84684967e-02\n",
      "   2.61018388e-02 -9.44075361e-03  2.82169320e-02  3.48723866e-02\n",
      "   3.69098596e-02 -8.58947262e-03 -3.53205539e-02 -2.47857254e-02\n",
      "  -1.91921070e-02  3.80708091e-02  5.99654019e-02 -4.22286652e-02]\n",
      " [ 8.64386037e-02  1.02762632e-01  5.39458822e-03  2.04441464e-03\n",
      "  -9.96336527e-03  2.53854748e-02  4.92875949e-02 -3.06265932e-02\n",
      "   6.87254891e-02  1.01365782e-02  7.75397122e-02 -9.00806859e-02\n",
      "   6.10614382e-03 -5.69899045e-02  1.41714849e-02  2.80491896e-02\n",
      "  -8.68464336e-02  7.64399171e-02 -1.03491291e-01 -6.77438229e-02\n",
      "   6.99946955e-02  8.44251364e-02 -7.24914949e-03  1.04770698e-02\n",
      "   1.34020317e-02  6.77576885e-02 -9.42086354e-02 -3.71690132e-02\n",
      "   5.22617549e-02 -3.10853701e-02 -9.63406786e-02  1.57716908e-02\n",
      "   2.57866737e-02  7.85244703e-02  7.89949819e-02  1.91516615e-02\n",
      "   1.64356325e-02  3.10083269e-03  3.81311364e-02  2.37090494e-02\n",
      "   1.05389459e-02 -4.40645143e-02  4.41738255e-02 -2.58727856e-02\n",
      "   6.15378581e-02 -4.05427925e-02 -8.64140242e-02  3.19722295e-02\n",
      "  -8.90682393e-04 -2.44437084e-02 -9.19721425e-02  2.33939476e-02\n",
      "  -8.30293074e-02  4.41509970e-02 -2.49693040e-02  6.23019896e-02\n",
      "  -1.30348967e-03  7.51395300e-02  2.46385299e-02 -6.47244453e-02\n",
      "  -1.17727786e-01  3.83392349e-02 -9.11767855e-02  6.35446385e-02\n",
      "   7.62739256e-02 -8.80241171e-02  9.54556279e-03 -4.69717681e-02\n",
      "  -8.41740891e-02  3.88823561e-02 -1.14393584e-01  6.28857641e-03\n",
      "  -3.49361561e-02  2.39750743e-02 -3.31317075e-02 -1.57244317e-02\n",
      "  -3.78955640e-02 -8.81248340e-03  7.06118867e-02  3.28066386e-02\n",
      "   2.03675125e-03 -1.12278998e-01  6.79718051e-03  1.22765386e-02\n",
      "   3.35303433e-02 -1.36200478e-02 -2.25489903e-02 -2.25229077e-02\n",
      "  -2.03194190e-02  5.04297502e-02 -7.48652890e-02 -8.22822228e-02\n",
      "   7.65962526e-02  4.93392348e-02 -3.75553444e-02  1.44634321e-02\n",
      "  -5.72457798e-02 -1.79954339e-02  1.09697960e-01  1.19462810e-01\n",
      "   8.09247722e-04  6.17057905e-02  3.26322913e-02 -1.30780131e-01\n",
      "  -1.48636609e-01 -6.16233088e-02  4.33885716e-02  2.67129634e-02\n",
      "   1.39785977e-02 -3.94002721e-02 -2.52711624e-02  3.87743674e-03\n",
      "   3.58664468e-02 -6.15420565e-02  3.76660749e-02  2.67564934e-02\n",
      "  -3.82659584e-02 -3.54793407e-02 -2.39227805e-02  8.67977738e-02\n",
      "  -1.84062868e-02  7.71039501e-02  1.39862776e-03  7.00383261e-02\n",
      "  -4.77878079e-02 -7.89820403e-02  5.10814376e-02 -2.99868370e-33\n",
      "  -3.91645990e-02 -2.56211567e-03  1.65210087e-02  9.48941335e-03\n",
      "  -5.66219054e-02  6.57783151e-02 -4.77002934e-02  1.11661647e-02\n",
      "  -5.73558211e-02 -9.16259736e-03 -2.17521116e-02 -5.59531674e-02\n",
      "  -1.11423116e-02  9.32793468e-02  1.66765079e-02 -1.36723751e-02\n",
      "   4.34388705e-02  1.87243987e-03  7.29952473e-03  5.16332388e-02\n",
      "   4.80608754e-02  1.35341480e-01 -1.71739403e-02 -1.29698096e-02\n",
      "  -7.50110000e-02  2.61107981e-02  2.69802213e-02  7.83082971e-04\n",
      "  -4.87270132e-02  1.17842909e-02 -4.59580347e-02 -4.83213477e-02\n",
      "  -1.95670966e-02  1.93889141e-02  1.98806953e-02  1.67432223e-02\n",
      "   9.87801328e-02 -2.74087861e-02  2.34809034e-02  3.70230549e-03\n",
      "  -6.14514723e-02 -1.21229968e-03 -9.50474385e-03  9.25155263e-03\n",
      "   2.38443837e-02  8.61232355e-02  2.26789992e-02  5.45099028e-04\n",
      "   3.47129554e-02  6.25463249e-03 -6.92777568e-03  3.92400473e-02\n",
      "   1.15674995e-02  3.26279849e-02  6.22155219e-02  2.76114475e-02\n",
      "   1.86883602e-02  3.55805419e-02  4.11796048e-02  1.54781705e-02\n",
      "   4.22691405e-02  3.82248349e-02  1.00313192e-02 -2.83246301e-02\n",
      "   4.47052531e-02 -4.10459116e-02 -4.50544478e-03 -5.44733889e-02\n",
      "   2.62321122e-02  1.79862343e-02 -1.23118818e-01 -4.66952249e-02\n",
      "  -1.35913184e-02  6.46710247e-02  3.57350381e-03 -1.22233843e-02\n",
      "  -1.79382283e-02 -2.55501941e-02  2.37224028e-02  4.08668723e-03\n",
      "  -6.51475713e-02  4.43651788e-02  4.68596444e-02 -3.25175151e-02\n",
      "   4.02275193e-03 -3.97600234e-03  1.11939497e-02 -9.95597690e-02\n",
      "   3.33167799e-02  8.01061243e-02  9.42692310e-02 -6.38293996e-02\n",
      "   3.23151499e-02 -5.13553470e-02 -7.49878259e-03  5.30047484e-34\n",
      "  -4.13194895e-02  9.49646607e-02 -1.06401443e-01  4.96590883e-02\n",
      "  -3.41913551e-02 -3.16745900e-02 -1.71556473e-02  1.70103461e-03\n",
      "   5.79757877e-02 -1.21777423e-03 -1.68536194e-02 -5.16912788e-02\n",
      "   5.52998967e-02 -3.42647247e-02  3.08179110e-02 -3.10481079e-02\n",
      "   9.27533135e-02  3.72663774e-02 -2.37397961e-02  4.45893928e-02\n",
      "   1.46153439e-02  1.16239384e-01 -5.00112735e-02  3.88716199e-02\n",
      "   4.24747402e-03  2.56976280e-02  3.27243395e-02  4.29907739e-02\n",
      "  -1.36144478e-02  2.56122239e-02  1.06262052e-02 -8.46863985e-02\n",
      "  -9.52982157e-02  1.08399913e-01 -7.51600266e-02 -1.37773845e-02\n",
      "   6.37337863e-02 -4.49670386e-03 -3.25321071e-02  6.23614192e-02\n",
      "   3.48053165e-02 -3.54922526e-02 -2.00222675e-02  3.66608128e-02\n",
      "  -2.48837210e-02  1.01818573e-02 -7.01233298e-02 -4.31951024e-02\n",
      "   2.95332670e-02 -2.94954400e-04 -3.45386304e-02  1.46675762e-02\n",
      "  -9.83970389e-02 -4.70488705e-02 -8.85494333e-03 -8.89914110e-02\n",
      "   3.50996256e-02 -1.29602045e-01 -4.98866364e-02 -6.12047464e-02\n",
      "  -5.97797558e-02  9.46320593e-03  4.91217673e-02 -7.75026754e-02\n",
      "   8.09727237e-02 -4.79257442e-02  2.34378967e-03  7.57031292e-02\n",
      "  -2.40175743e-02 -1.52545804e-02  4.86738682e-02 -3.85968797e-02\n",
      "  -7.04831481e-02 -1.20348139e-02 -3.88790518e-02 -7.76016712e-02\n",
      "  -1.07243797e-02  1.04187923e-02 -2.13753637e-02 -9.17386562e-02\n",
      "  -1.11344773e-02 -2.96066049e-02  2.46458277e-02  4.65708412e-03\n",
      "  -1.63449850e-02 -3.95219810e-02  7.73373768e-02 -2.84732804e-02\n",
      "  -3.69940884e-03  8.27665254e-02 -1.10408925e-02  3.13983373e-02\n",
      "   5.35094105e-02  5.75145818e-02 -3.17622237e-02 -1.52911301e-08\n",
      "  -7.99661353e-02 -4.76797186e-02 -8.59788805e-02  5.69616593e-02\n",
      "  -4.08866033e-02  2.23832261e-02 -4.64443257e-03 -3.80131267e-02\n",
      "  -3.10671069e-02 -1.07278368e-02  1.97698381e-02  7.76999351e-03\n",
      "  -6.09474350e-03 -3.86375859e-02  2.80271955e-02  6.78138286e-02\n",
      "  -2.35351603e-02  3.21748070e-02  8.02539941e-03 -2.39107292e-02\n",
      "  -1.21996889e-03  3.14599089e-02 -5.24924099e-02 -8.06814432e-03\n",
      "   3.14772828e-03  5.11496700e-02 -4.44105007e-02  6.36013225e-02\n",
      "   3.85083817e-02  3.30432840e-02 -4.18727892e-03  4.95592505e-02\n",
      "  -5.69605045e-02 -6.49710977e-03 -2.49793194e-02 -1.60867088e-02\n",
      "   6.62289187e-02 -2.06310637e-02  1.08045757e-01  1.68547146e-02\n",
      "   1.43813072e-02 -1.32127209e-02 -1.29387364e-01  6.95216507e-02\n",
      "  -5.55773377e-02 -6.75413311e-02 -5.45816263e-03 -6.13590796e-03\n",
      "   3.90841030e-02 -6.28779531e-02  3.74063551e-02 -1.16570937e-02\n",
      "   1.29150413e-02 -5.52495681e-02  5.16075976e-02 -4.30839043e-03\n",
      "   5.80247454e-02  1.86944939e-02  2.27810312e-02  3.21665816e-02\n",
      "   5.37978634e-02  7.02849329e-02  7.49312043e-02 -8.41775164e-02]]\n"
     ]
    }
   ],
   "source": [
    "from sentence_transformers import SentenceTransformer\n",
    "sentences = [\"This is an example sentence\", \"Each sentence is converted\"]\n",
    "\n",
    "model = SentenceTransformer('sentence-transformers/all-MiniLM-L6-v2')\n",
    "embeddings = model.encode(sentences)\n",
    "print(embeddings)"
   ]
  },
  {
   "cell_type": "code",
   "execution_count": 3,
   "id": "87d276dc-772b-42ba-b979-74026eeb1280",
   "metadata": {},
   "outputs": [
    {
     "name": "stdout",
     "output_type": "stream",
     "text": [
      "Sentence embeddings:\n",
      "tensor([[ 6.7657e-02,  6.3496e-02,  4.8713e-02,  7.9305e-02,  3.7448e-02,\n",
      "          2.6528e-03,  3.9375e-02, -7.0984e-03,  5.9361e-02,  3.1537e-02,\n",
      "          6.0098e-02, -5.2905e-02,  4.0607e-02, -2.5931e-02,  2.9843e-02,\n",
      "          1.1269e-03,  7.3515e-02, -5.0382e-02, -1.2239e-01,  2.3703e-02,\n",
      "          2.9727e-02,  4.2477e-02,  2.5634e-02,  1.9951e-03, -5.6919e-02,\n",
      "         -2.7160e-02, -3.2904e-02,  6.6025e-02,  1.1901e-01, -4.5879e-02,\n",
      "         -7.2621e-02, -3.2584e-02,  5.2341e-02,  4.5055e-02,  8.2530e-03,\n",
      "          3.6702e-02, -1.3942e-02,  6.5392e-02, -2.6427e-02,  2.0640e-04,\n",
      "         -1.3664e-02, -3.6281e-02, -1.9504e-02, -2.8974e-02,  3.9427e-02,\n",
      "         -8.8409e-02,  2.6243e-03,  1.3671e-02,  4.8306e-02, -3.1157e-02,\n",
      "         -1.1733e-01, -5.1169e-02, -8.8529e-02, -2.1896e-02,  1.4299e-02,\n",
      "          4.4417e-02, -1.3482e-02,  7.4339e-02,  2.6638e-02, -1.9876e-02,\n",
      "          1.7919e-02, -1.0605e-02, -9.0426e-02,  2.1327e-02,  1.4120e-01,\n",
      "         -6.4718e-03, -1.4038e-03, -1.5361e-02, -8.7357e-02,  7.2217e-02,\n",
      "          2.0140e-02,  4.2559e-02, -3.4901e-02,  3.1951e-04, -8.0297e-02,\n",
      "         -3.2747e-02,  2.8527e-02, -5.1366e-02,  1.0939e-01,  8.1933e-02,\n",
      "         -9.8404e-02, -9.3410e-02, -1.5129e-02,  4.5125e-02,  4.9417e-02,\n",
      "         -2.5187e-02,  1.5708e-02, -1.2929e-01,  5.3188e-03,  4.0234e-03,\n",
      "         -2.3457e-02, -6.7298e-02,  2.9228e-02, -2.6085e-02,  1.3063e-02,\n",
      "         -3.1166e-02, -4.8271e-02, -5.5886e-02, -3.8751e-02,  1.2001e-01,\n",
      "         -1.0392e-02,  4.8971e-02,  5.5354e-02,  4.4936e-02, -4.0097e-03,\n",
      "         -1.0296e-01, -2.9297e-02, -5.8340e-02,  2.7047e-02, -2.2017e-02,\n",
      "         -7.2224e-02, -4.1387e-02, -1.9330e-02,  2.7333e-03,  2.7700e-04,\n",
      "         -9.6759e-02, -1.0057e-01, -1.4192e-02, -8.0789e-02,  4.5393e-02,\n",
      "          2.4504e-02,  5.9761e-02, -7.3819e-02,  1.1984e-02, -6.6340e-02,\n",
      "         -7.6904e-02,  3.8516e-02, -5.5936e-33,  2.8001e-02, -5.6079e-02,\n",
      "         -4.8660e-02,  2.1557e-02,  6.0198e-02, -4.8140e-02, -3.5025e-02,\n",
      "          1.9331e-02, -1.7515e-02, -3.8921e-02, -3.8106e-03, -1.7029e-02,\n",
      "          2.8210e-02,  1.2829e-02,  4.7160e-02,  6.2103e-02, -6.4359e-02,\n",
      "          1.2929e-01, -1.3123e-02,  5.2307e-02, -3.7368e-02,  2.8909e-02,\n",
      "         -1.6898e-02, -2.3733e-02, -3.3349e-02, -5.1676e-02,  1.5536e-02,\n",
      "          2.0880e-02, -1.2537e-02,  4.5958e-02,  3.7272e-02,  2.8057e-02,\n",
      "         -5.9000e-02, -1.1699e-02,  4.9218e-02,  4.7033e-02,  7.3549e-02,\n",
      "         -3.7053e-02,  3.9846e-03,  1.0641e-02, -1.6148e-04, -5.2717e-02,\n",
      "          2.7593e-02, -3.9292e-02,  8.4472e-02,  4.8686e-02, -4.8587e-03,\n",
      "          1.7995e-02, -4.2857e-02,  1.2338e-02,  6.3996e-03,  4.0482e-02,\n",
      "          1.4889e-02, -1.5394e-02,  7.6295e-02,  2.3704e-02,  4.4524e-02,\n",
      "          5.0820e-02, -2.3126e-03, -1.8874e-02, -1.2334e-02,  4.6600e-02,\n",
      "         -5.6344e-02,  6.2993e-02, -3.1553e-02,  3.2491e-02,  2.3467e-02,\n",
      "         -6.5544e-02,  2.0171e-02,  2.5708e-02, -1.2387e-02, -8.3649e-03,\n",
      "         -6.6438e-02,  9.4307e-02, -3.5709e-02, -3.4248e-02, -6.6636e-03,\n",
      "         -8.0153e-03, -3.0971e-02,  4.3301e-02, -8.2140e-03, -1.5080e-01,\n",
      "          3.0769e-02,  4.0072e-02, -3.7929e-02,  1.9321e-03,  4.0053e-02,\n",
      "         -8.7708e-02, -3.6849e-02,  8.5796e-03, -3.1925e-02, -1.2526e-02,\n",
      "          7.3554e-02,  1.3474e-03,  2.0592e-02,  2.7110e-33, -5.1858e-02,\n",
      "          5.7836e-02, -9.1899e-02,  3.9442e-02,  1.0558e-01, -1.9691e-02,\n",
      "          6.1840e-02, -7.6347e-02,  2.4088e-02,  9.4005e-02, -1.1654e-01,\n",
      "          3.7120e-02,  5.2243e-02, -3.9586e-03,  5.7221e-02,  5.3285e-03,\n",
      "          1.2402e-01,  1.3902e-02, -1.1025e-02,  3.5605e-02, -3.3075e-02,\n",
      "          8.1657e-02, -1.5200e-02,  6.0559e-02, -6.0140e-02,  3.2610e-02,\n",
      "         -3.4830e-02, -1.6988e-02, -9.7491e-02, -2.7148e-02,  1.7471e-03,\n",
      "         -7.6898e-02, -4.3186e-02, -1.8998e-02, -2.9166e-02,  5.7749e-02,\n",
      "          2.4182e-02, -1.1690e-02, -6.2143e-02,  2.8435e-02, -2.3754e-04,\n",
      "         -2.5178e-02,  4.3964e-03,  8.1284e-02,  3.6418e-02, -6.0401e-02,\n",
      "         -3.6552e-02, -7.9375e-02, -5.0853e-03,  6.6970e-02, -1.1778e-01,\n",
      "          3.2374e-02, -4.7125e-02, -1.3446e-02, -9.4844e-02,  8.2495e-03,\n",
      "         -1.0675e-02, -6.8188e-02,  1.1181e-03,  2.4802e-02, -6.3589e-02,\n",
      "          2.8449e-02, -2.6130e-02,  8.5811e-02,  1.1468e-01, -5.3535e-02,\n",
      "         -5.6359e-02,  4.2601e-02,  1.0945e-02,  2.0958e-02,  1.0013e-01,\n",
      "          3.2605e-02, -1.8421e-01, -3.9321e-02, -6.9146e-02, -6.3810e-02,\n",
      "         -6.5639e-02, -6.4125e-03, -4.7961e-02, -7.6813e-02,  2.9538e-02,\n",
      "         -2.2995e-02,  4.1704e-02, -2.5005e-02, -4.5451e-03, -4.1714e-02,\n",
      "         -1.3229e-02, -6.3836e-02, -2.4647e-03, -1.3734e-02,  1.6898e-02,\n",
      "         -6.3040e-02,  8.9888e-02,  4.1817e-02, -1.8569e-02, -1.8044e-08,\n",
      "         -1.6800e-02, -3.2158e-02,  6.3038e-02, -4.1309e-02,  4.4482e-02,\n",
      "          2.0246e-03,  6.2959e-02, -5.1737e-03, -1.0044e-02, -3.0564e-02,\n",
      "          3.5267e-02,  5.5858e-02, -4.6713e-02,  3.4510e-02,  3.2958e-02,\n",
      "          4.3011e-02,  2.9436e-02, -3.0316e-02, -1.7111e-02,  7.3748e-02,\n",
      "         -5.4791e-02,  2.7752e-02,  6.2016e-03,  1.5880e-02,  3.4298e-02,\n",
      "         -5.1575e-03,  2.3508e-02,  7.5314e-02,  1.9284e-02,  3.3620e-02,\n",
      "          5.0910e-02,  1.5250e-01,  1.6421e-02,  2.7053e-02,  3.7516e-02,\n",
      "          2.1855e-02,  5.6633e-02, -3.9575e-02,  7.1231e-02, -5.4138e-02,\n",
      "          1.0377e-03,  2.1185e-02, -3.5631e-02,  1.0902e-01,  2.7653e-03,\n",
      "          3.1400e-02,  1.3842e-03, -3.4574e-02, -4.5928e-02,  2.8808e-02,\n",
      "          7.1690e-03,  4.8469e-02,  2.6102e-02, -9.4407e-03,  2.8217e-02,\n",
      "          3.4872e-02,  3.6910e-02, -8.5895e-03, -3.5321e-02, -2.4786e-02,\n",
      "         -1.9192e-02,  3.8071e-02,  5.9965e-02, -4.2229e-02],\n",
      "        [ 8.6439e-02,  1.0276e-01,  5.3945e-03,  2.0444e-03, -9.9633e-03,\n",
      "          2.5386e-02,  4.9288e-02, -3.0627e-02,  6.8725e-02,  1.0137e-02,\n",
      "          7.7540e-02, -9.0081e-02,  6.1062e-03, -5.6990e-02,  1.4171e-02,\n",
      "          2.8049e-02, -8.6846e-02,  7.6440e-02, -1.0349e-01, -6.7744e-02,\n",
      "          6.9995e-02,  8.4425e-02, -7.2491e-03,  1.0477e-02,  1.3402e-02,\n",
      "          6.7758e-02, -9.4209e-02, -3.7169e-02,  5.2262e-02, -3.1085e-02,\n",
      "         -9.6341e-02,  1.5772e-02,  2.5787e-02,  7.8525e-02,  7.8995e-02,\n",
      "          1.9152e-02,  1.6436e-02,  3.1009e-03,  3.8131e-02,  2.3709e-02,\n",
      "          1.0539e-02, -4.4064e-02,  4.4174e-02, -2.5873e-02,  6.1538e-02,\n",
      "         -4.0543e-02, -8.6414e-02,  3.1972e-02, -8.9066e-04, -2.4444e-02,\n",
      "         -9.1972e-02,  2.3394e-02, -8.3029e-02,  4.4151e-02, -2.4969e-02,\n",
      "          6.2302e-02, -1.3035e-03,  7.5140e-02,  2.4638e-02, -6.4724e-02,\n",
      "         -1.1773e-01,  3.8339e-02, -9.1177e-02,  6.3545e-02,  7.6274e-02,\n",
      "         -8.8024e-02,  9.5456e-03, -4.6972e-02, -8.4174e-02,  3.8882e-02,\n",
      "         -1.1439e-01,  6.2886e-03, -3.4936e-02,  2.3975e-02, -3.3132e-02,\n",
      "         -1.5724e-02, -3.7896e-02, -8.8125e-03,  7.0612e-02,  3.2807e-02,\n",
      "          2.0367e-03, -1.1228e-01,  6.7972e-03,  1.2277e-02,  3.3530e-02,\n",
      "         -1.3620e-02, -2.2549e-02, -2.2523e-02, -2.0320e-02,  5.0430e-02,\n",
      "         -7.4865e-02, -8.2282e-02,  7.6596e-02,  4.9339e-02, -3.7555e-02,\n",
      "          1.4463e-02, -5.7246e-02, -1.7995e-02,  1.0970e-01,  1.1946e-01,\n",
      "          8.0927e-04,  6.1706e-02,  3.2632e-02, -1.3078e-01, -1.4864e-01,\n",
      "         -6.1623e-02,  4.3389e-02,  2.6713e-02,  1.3979e-02, -3.9400e-02,\n",
      "         -2.5271e-02,  3.8774e-03,  3.5866e-02, -6.1542e-02,  3.7666e-02,\n",
      "          2.6757e-02, -3.8266e-02, -3.5479e-02, -2.3923e-02,  8.6798e-02,\n",
      "         -1.8406e-02,  7.7104e-02,  1.3986e-03,  7.0038e-02, -4.7788e-02,\n",
      "         -7.8982e-02,  5.1081e-02, -2.9987e-33, -3.9165e-02, -2.5621e-03,\n",
      "          1.6521e-02,  9.4894e-03, -5.6622e-02,  6.5778e-02, -4.7700e-02,\n",
      "          1.1166e-02, -5.7356e-02, -9.1626e-03, -2.1752e-02, -5.5953e-02,\n",
      "         -1.1142e-02,  9.3279e-02,  1.6677e-02, -1.3672e-02,  4.3439e-02,\n",
      "          1.8724e-03,  7.2995e-03,  5.1633e-02,  4.8061e-02,  1.3534e-01,\n",
      "         -1.7174e-02, -1.2970e-02, -7.5011e-02,  2.6111e-02,  2.6980e-02,\n",
      "          7.8306e-04, -4.8727e-02,  1.1784e-02, -4.5958e-02, -4.8321e-02,\n",
      "         -1.9567e-02,  1.9389e-02,  1.9881e-02,  1.6743e-02,  9.8780e-02,\n",
      "         -2.7409e-02,  2.3481e-02,  3.7023e-03, -6.1451e-02, -1.2123e-03,\n",
      "         -9.5047e-03,  9.2515e-03,  2.3844e-02,  8.6123e-02,  2.2679e-02,\n",
      "          5.4511e-04,  3.4713e-02,  6.2547e-03, -6.9277e-03,  3.9240e-02,\n",
      "          1.1567e-02,  3.2628e-02,  6.2216e-02,  2.7611e-02,  1.8688e-02,\n",
      "          3.5581e-02,  4.1180e-02,  1.5478e-02,  4.2269e-02,  3.8225e-02,\n",
      "          1.0031e-02, -2.8325e-02,  4.4705e-02, -4.1046e-02, -4.5055e-03,\n",
      "         -5.4473e-02,  2.6232e-02,  1.7986e-02, -1.2312e-01, -4.6695e-02,\n",
      "         -1.3591e-02,  6.4671e-02,  3.5735e-03, -1.2223e-02, -1.7938e-02,\n",
      "         -2.5550e-02,  2.3722e-02,  4.0867e-03, -6.5148e-02,  4.4365e-02,\n",
      "          4.6860e-02, -3.2517e-02,  4.0227e-03, -3.9761e-03,  1.1194e-02,\n",
      "         -9.9560e-02,  3.3317e-02,  8.0106e-02,  9.4269e-02, -6.3829e-02,\n",
      "          3.2315e-02, -5.1355e-02, -7.4988e-03,  5.3005e-34, -4.1319e-02,\n",
      "          9.4965e-02, -1.0640e-01,  4.9659e-02, -3.4191e-02, -3.1675e-02,\n",
      "         -1.7156e-02,  1.7011e-03,  5.7976e-02, -1.2178e-03, -1.6854e-02,\n",
      "         -5.1691e-02,  5.5300e-02, -3.4265e-02,  3.0818e-02, -3.1048e-02,\n",
      "          9.2753e-02,  3.7266e-02, -2.3740e-02,  4.4589e-02,  1.4615e-02,\n",
      "          1.1624e-01, -5.0011e-02,  3.8872e-02,  4.2474e-03,  2.5698e-02,\n",
      "          3.2724e-02,  4.2991e-02, -1.3614e-02,  2.5612e-02,  1.0626e-02,\n",
      "         -8.4686e-02, -9.5298e-02,  1.0840e-01, -7.5160e-02, -1.3777e-02,\n",
      "          6.3734e-02, -4.4967e-03, -3.2532e-02,  6.2361e-02,  3.4805e-02,\n",
      "         -3.5492e-02, -2.0022e-02,  3.6661e-02, -2.4884e-02,  1.0182e-02,\n",
      "         -7.0123e-02, -4.3195e-02,  2.9533e-02, -2.9489e-04, -3.4539e-02,\n",
      "          1.4668e-02, -9.8397e-02, -4.7049e-02, -8.8550e-03, -8.8991e-02,\n",
      "          3.5100e-02, -1.2960e-01, -4.9887e-02, -6.1205e-02, -5.9780e-02,\n",
      "          9.4632e-03,  4.9122e-02, -7.7503e-02,  8.0973e-02, -4.7926e-02,\n",
      "          2.3438e-03,  7.5703e-02, -2.4018e-02, -1.5255e-02,  4.8674e-02,\n",
      "         -3.8597e-02, -7.0483e-02, -1.2035e-02, -3.8879e-02, -7.7602e-02,\n",
      "         -1.0724e-02,  1.0419e-02, -2.1375e-02, -9.1739e-02, -1.1134e-02,\n",
      "         -2.9607e-02,  2.4646e-02,  4.6571e-03, -1.6345e-02, -3.9522e-02,\n",
      "          7.7337e-02, -2.8473e-02, -3.6994e-03,  8.2767e-02, -1.1041e-02,\n",
      "          3.1398e-02,  5.3509e-02,  5.7515e-02, -3.1762e-02, -1.5291e-08,\n",
      "         -7.9966e-02, -4.7680e-02, -8.5979e-02,  5.6962e-02, -4.0887e-02,\n",
      "          2.2383e-02, -4.6445e-03, -3.8013e-02, -3.1067e-02, -1.0728e-02,\n",
      "          1.9770e-02,  7.7700e-03, -6.0947e-03, -3.8638e-02,  2.8027e-02,\n",
      "          6.7814e-02, -2.3535e-02,  3.2175e-02,  8.0254e-03, -2.3911e-02,\n",
      "         -1.2199e-03,  3.1460e-02, -5.2492e-02, -8.0681e-03,  3.1477e-03,\n",
      "          5.1150e-02, -4.4410e-02,  6.3601e-02,  3.8508e-02,  3.3043e-02,\n",
      "         -4.1873e-03,  4.9559e-02, -5.6961e-02, -6.4971e-03, -2.4979e-02,\n",
      "         -1.6087e-02,  6.6229e-02, -2.0631e-02,  1.0805e-01,  1.6855e-02,\n",
      "          1.4381e-02, -1.3213e-02, -1.2939e-01,  6.9522e-02, -5.5577e-02,\n",
      "         -6.7541e-02, -5.4582e-03, -6.1359e-03,  3.9084e-02, -6.2878e-02,\n",
      "          3.7406e-02, -1.1657e-02,  1.2915e-02, -5.5250e-02,  5.1608e-02,\n",
      "         -4.3084e-03,  5.8025e-02,  1.8694e-02,  2.2781e-02,  3.2167e-02,\n",
      "          5.3798e-02,  7.0285e-02,  7.4931e-02, -8.4177e-02]])\n"
     ]
    }
   ],
   "source": [
    "from transformers import AutoTokenizer, AutoModel\n",
    "import torch\n",
    "import torch.nn.functional as F\n",
    "\n",
    "#Mean Pooling - Take attention mask into account for correct averaging\n",
    "def mean_pooling(model_output, attention_mask):\n",
    "    token_embeddings = model_output[0] #First element of model_output contains all token embeddings\n",
    "    input_mask_expanded = attention_mask.unsqueeze(-1).expand(token_embeddings.size()).float()\n",
    "    return torch.sum(token_embeddings * input_mask_expanded, 1) / torch.clamp(input_mask_expanded.sum(1), min=1e-9)\n",
    "\n",
    "\n",
    "# Sentences we want sentence embeddings for\n",
    "sentences = ['This is an example sentence', 'Each sentence is converted']\n",
    "\n",
    "# Load model from HuggingFace Hub\n",
    "tokenizer = AutoTokenizer.from_pretrained('sentence-transformers/all-MiniLM-L6-v2')\n",
    "model = AutoModel.from_pretrained('sentence-transformers/all-MiniLM-L6-v2')\n",
    "\n",
    "# Tokenize sentences\n",
    "encoded_input = tokenizer(sentences, padding=True, truncation=True, return_tensors='pt')\n",
    "\n",
    "# Compute token embeddings\n",
    "with torch.no_grad():\n",
    "    model_output = model(**encoded_input)\n",
    "\n",
    "# Perform pooling\n",
    "sentence_embeddings = mean_pooling(model_output, encoded_input['attention_mask'])\n",
    "\n",
    "# Normalize embeddings\n",
    "sentence_embeddings = F.normalize(sentence_embeddings, p=2, dim=1)\n",
    "\n",
    "print(\"Sentence embeddings:\")\n",
    "print(sentence_embeddings)\n"
   ]
  },
  {
   "cell_type": "code",
   "execution_count": null,
   "id": "a45322cc-8d08-4133-83fa-02d75f03b058",
   "metadata": {},
   "outputs": [],
   "source": []
  },
  {
   "cell_type": "code",
   "execution_count": null,
   "id": "dedeebb1-7139-4e4a-9748-7afb0665de42",
   "metadata": {},
   "outputs": [],
   "source": []
  }
 ],
 "metadata": {
  "kernelspec": {
   "display_name": "Python 3 (ipykernel)",
   "language": "python",
   "name": "python3"
  },
  "language_info": {
   "codemirror_mode": {
    "name": "ipython",
    "version": 3
   },
   "file_extension": ".py",
   "mimetype": "text/x-python",
   "name": "python",
   "nbconvert_exporter": "python",
   "pygments_lexer": "ipython3",
   "version": "3.11.0rc1"
  }
 },
 "nbformat": 4,
 "nbformat_minor": 5
}

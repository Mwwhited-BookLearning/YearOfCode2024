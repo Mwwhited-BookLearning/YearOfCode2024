{
 "cells": [
  {
   "cell_type": "code",
   "execution_count": null,
   "id": "a2a33c2f-f419-45e2-a3e4-84c22d76f125",
   "metadata": {},
   "outputs": [],
   "source": [
    "model_id = \"runwayml/stable-diffusion-v1-5\"\n",
    "\n",
    "from diffusers import StableDiffusionPipeline                                                                                                                                                                                                 \n",
    "pipe = StableDiffusionPipeline.from_pretrained(model_id) \n",
    "\n",
    "import torch      \n",
    "\n",
    "#prompt = \"portrait photo of a old warrior chief\" #  in green\n",
    "# prompt = \"photorealistic micky mouse tron star wars lego\" \n",
    "\n",
    "torch_device = \"cuda\" if torch.cuda.is_available() else \"cpu\"\n",
    "pipe = pipe.to(torch_device)"
   ]
  }
 ],
 "metadata": {
  "kernelspec": {
   "display_name": "Python 3 (ipykernel)",
   "language": "python",
   "name": "python3"
  },
  "language_info": {
   "codemirror_mode": {
    "name": "ipython",
    "version": 3
   },
   "file_extension": ".py",
   "mimetype": "text/x-python",
   "name": "python",
   "nbconvert_exporter": "python",
   "pygments_lexer": "ipython3",
   "version": "3.11.0rc1"
  }
 },
 "nbformat": 4,
 "nbformat_minor": 5
}

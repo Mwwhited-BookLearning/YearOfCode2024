{
 "cells": [
  {
   "cell_type": "markdown",
   "id": "b31b8d38-8906-4ef7-8fd9-389727e1161f",
   "metadata": {},
   "source": [
    "## Simple for loop"
   ]
  },
  {
   "cell_type": "code",
   "execution_count": 7,
   "id": "afc41d38-df3b-4e3e-a04d-d013d0980f0e",
   "metadata": {},
   "outputs": [
    {
     "name": "stdout",
     "output_type": "stream",
     "text": [
      "k 0\n",
      "k 1\n",
      "k 2\n",
      "k 3\n",
      "next!\n",
      "j 0\n",
      "j 1\n",
      "j 2\n",
      "next!\n",
      "i 0\n",
      "i 1\n",
      "i 2\n",
      "fin!\n"
     ]
    }
   ],
   "source": [
    "package main\n",
    "import (\n",
    "    \"fmt\"\n",
    ")\n",
    "\n",
    "func main() {\n",
    "    k := 0\n",
    "    for {\n",
    "        fmt.Println(\"k\", k)\n",
    "        k++\n",
    "        if (k > 3){\n",
    "            break\n",
    "        }\n",
    "    }\n",
    "    fmt.Println(\"next!\")\n",
    "    \n",
    "    j := 0\n",
    "    for j<3 {\n",
    "        fmt.Println(\"j\", j)\n",
    "        j++\n",
    "    }\n",
    "    fmt.Println(\"next!\")\n",
    "    \n",
    "    for i:=0; i<3; i++ {\n",
    "        fmt.Println(\"i\", i)\n",
    "    }\n",
    "    fmt.Println(\"fin!\")\n",
    "}"
   ]
  },
  {
   "cell_type": "markdown",
   "id": "2387a649-449c-4c62-a3bc-14c8b2560469",
   "metadata": {},
   "source": [
    "## Looping Collections"
   ]
  },
  {
   "cell_type": "code",
   "execution_count": 11,
   "id": "85a4e78c-7d26-4b75-a1c7-245b5a149c6f",
   "metadata": {},
   "outputs": [
    {
     "name": "stdout",
     "output_type": "stream",
     "text": [
      "item 1\n",
      "item 2\n",
      "item 3\n",
      "next!\n",
      "key 0\n",
      "key 1\n",
      "key 2\n",
      "next!\n",
      "key 0 item 1\n",
      "key 1 item 2\n",
      "key 2 item 3\n",
      "next!\n"
     ]
    }
   ],
   "source": [
    "package main\n",
    "import (\n",
    "    \"fmt\"\n",
    ")\n",
    "\n",
    "func main() {\n",
    "    items := []int{1,2,3}\n",
    "    \n",
    "    for _,item := range items{\n",
    "        fmt.Println(\"item\", item)\n",
    "    }\n",
    "    fmt.Println(\"next!\")\n",
    "    \n",
    "    for key := range items{\n",
    "        fmt.Println(\"key\", key)\n",
    "    }\n",
    "    fmt.Println(\"next!\")\n",
    "    \n",
    "    for key, item := range items{\n",
    "        fmt.Println(\"key\", key, \"item\", item)\n",
    "    }\n",
    "    fmt.Println(\"next!\")\n",
    "}"
   ]
  },
  {
   "cell_type": "code",
   "execution_count": null,
   "id": "accad37f-2c76-4385-ad94-ed8d7271f304",
   "metadata": {},
   "outputs": [],
   "source": []
  }
 ],
 "metadata": {
  "kernelspec": {
   "display_name": "Go (gonb)",
   "language": "go",
   "name": "gonb"
  },
  "language_info": {
   "codemirror_mode": "",
   "file_extension": ".go",
   "mimetype": "",
   "name": "go",
   "nbconvert_exporter": "",
   "pygments_lexer": "",
   "version": "go1.22.5"
  }
 },
 "nbformat": 4,
 "nbformat_minor": 5
}

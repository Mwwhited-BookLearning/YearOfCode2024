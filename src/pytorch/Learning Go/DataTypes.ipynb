{
 "cells": [
  {
   "cell_type": "markdown",
   "id": "81a98629-3fbc-4254-b002-bb7763d51e35",
   "metadata": {
    "jp-MarkdownHeadingCollapsed": true
   },
   "source": [
    "## Working with Arrays in Go"
   ]
  },
  {
   "cell_type": "code",
   "execution_count": 1,
   "id": "63bd86d1-dfb4-4833-abb2-11cde48c4d39",
   "metadata": {},
   "outputs": [
    {
     "name": "stdout",
     "output_type": "stream",
     "text": [
      "[0 0 0]\n",
      "2\n",
      "[1 99 3]\n"
     ]
    }
   ],
   "source": [
    "package main\n",
    "import \"fmt\"\n",
    "\n",
    "func main() {\n",
    "    var arr [3]int\n",
    "    fmt.Println(arr)\n",
    "    arr=[3]int{1,2,3}\n",
    "    fmt.Println(arr[1])\n",
    "    arr[1]=99\n",
    "    fmt.Println(arr)\n",
    "}"
   ]
  },
  {
   "cell_type": "code",
   "execution_count": 2,
   "id": "79d3691a-ab12-4bf5-9d5e-67245c13d51d",
   "metadata": {},
   "outputs": [
    {
     "name": "stdout",
     "output_type": "stream",
     "text": [
      "[foo bar baz]\n",
      "[quux bar baz]\n",
      "[foo bar baz]\n",
      "false\n"
     ]
    }
   ],
   "source": [
    "package main\n",
    "import \"fmt\"\n",
    "\n",
    "func main() {\n",
    "    arr:= [3]string{\"foo\",\"bar\", \"baz\"}\n",
    "    arr2:= arr\n",
    "    fmt.Println(arr2)\n",
    "\n",
    "    arr[0]=\"quux\"\n",
    "    \n",
    "    fmt.Println(arr)\n",
    "    fmt.Println(arr2)\n",
    "\n",
    "    fmt.Println(arr == arr2)    \n",
    "    \n",
    "}"
   ]
  },
  {
   "cell_type": "markdown",
   "id": "d59214a8-9e51-41da-8c5b-762b25368cd0",
   "metadata": {},
   "source": [
    "### Demo"
   ]
  },
  {
   "cell_type": "code",
   "execution_count": 3,
   "id": "4a86ce7b-b40b-4e62-ac2d-232498e98b34",
   "metadata": {},
   "outputs": [
    {
     "name": "stdout",
     "output_type": "stream",
     "text": [
      "[  ]\n",
      "[hello world nope]\n"
     ]
    }
   ],
   "source": [
    "package main \n",
    "import \"fmt\"\n",
    "\n",
    "func main(){    \n",
    "    var arr [3]string\n",
    "    fmt.Println(arr)\n",
    "\n",
    "    arr =[3]string {\"hello\", \"world\", \"nope\"}\n",
    "    fmt.Println(arr)\n",
    "}"
   ]
  },
  {
   "cell_type": "markdown",
   "id": "d0c585c2-25a0-46a3-aa88-cc6284fe3ce0",
   "metadata": {
    "jp-MarkdownHeadingCollapsed": true
   },
   "source": [
    "## Working with Slices in Go"
   ]
  },
  {
   "cell_type": "code",
   "execution_count": null,
   "id": "251b25c5-e965-40a5-aee9-b7096d364742",
   "metadata": {},
   "outputs": [],
   "source": []
  },
  {
   "cell_type": "code",
   "execution_count": 4,
   "id": "5e4c8f9b-7842-480f-be7f-50700974513f",
   "metadata": {},
   "outputs": [
    {
     "name": "stdout",
     "output_type": "stream",
     "text": [
      "[nope]\n",
      "[nope hello world nope]\n",
      "[hello nope nope world]\n"
     ]
    }
   ],
   "source": [
    "package main \n",
    "import (\n",
    "    \"fmt\"\n",
    "    \"golang.org/x/exp/slices\"\n",
    ")\n",
    "\n",
    "func main(){    \n",
    "    var slice []string\n",
    "    \n",
    "    slice=[]string{\"nope\"}\n",
    "    fmt.Println(slice)\n",
    "\n",
    "    slice = append(slice, \"hello\", \"world\", \"nope\")\n",
    "    fmt.Println(slice)\n",
    "\n",
    "    slices.Sort(slice)\n",
    "    fmt.Println(slice)\n",
    "}\n"
   ]
  },
  {
   "cell_type": "markdown",
   "id": "e9b6476a-62db-4d05-89bf-6836b5aad007",
   "metadata": {
    "jp-MarkdownHeadingCollapsed": true
   },
   "source": [
    "## Working with Maps in Go"
   ]
  },
  {
   "cell_type": "code",
   "execution_count": 5,
   "id": "98ca213b-a4c4-463d-a0e5-fccce3088472",
   "metadata": {},
   "outputs": [
    {
     "name": "stdout",
     "output_type": "stream",
     "text": [
      "map[]\n",
      "map[bar:2 foo:1]\n",
      "2\n",
      "0\n",
      "map[foo:1]\n",
      "map[baz:3 foo:1]\n",
      "0 false\n"
     ]
    }
   ],
   "source": [
    "package main\n",
    "import (\n",
    "    \"fmt\"\n",
    ")\n",
    "\n",
    "func main() {\n",
    "    var mapData map[string]int\n",
    "    fmt.Println(mapData)\n",
    "\n",
    "    mapData = map[string]int{\"foo\":1, \"bar\":2}\n",
    "    fmt.Println(mapData)\n",
    "    fmt.Println(mapData[\"bar\"])\n",
    "    fmt.Println(mapData[\"baz\"])\n",
    "\n",
    "    delete(mapData, \"bar\")\n",
    "    fmt.Println(mapData)\n",
    "    mapData[\"baz\"]=3\n",
    "    fmt.Println(mapData)\n",
    "    \n",
    "    v, ok :=mapData[\"bar\"]\n",
    "    fmt.Println(v, ok)\n",
    "}"
   ]
  },
  {
   "cell_type": "code",
   "execution_count": 6,
   "id": "54482d65-644e-417f-a260-04d976056d10",
   "metadata": {},
   "outputs": [
    {
     "name": "stdout",
     "output_type": "stream",
     "text": [
      "map[Key1:[value1.1 value1.2] Key2:[value2.1 value2.2 value2.3] Key3:[]]\n",
      "Key1 [value1.1 value1.2]\n",
      "Key2 [value2.1 value2.2 value2.3]\n",
      "Key3 []\n"
     ]
    }
   ],
   "source": [
    "package main\n",
    "import (\n",
    "    \"fmt\"\n",
    ")\n",
    "\n",
    "func main() {\n",
    "    var mapData map[string][]string\n",
    "    \n",
    "    mapData = map[string][]string{\n",
    "        \"Key1\":{\"value1.1\", \"value1.2\"},\n",
    "        \"Key2\":{\"value2.1\", \"value2.2\", \"value2.3\"},\n",
    "        \"Key3\":{},\n",
    "    }\n",
    "    fmt.Println(mapData)\n",
    "\n",
    "    for key, value := range mapData {\n",
    "        fmt.Println(key, value)\n",
    "    }\n",
    "}"
   ]
  },
  {
   "cell_type": "markdown",
   "id": "26018789-a84d-4530-b13c-cd60bc327b87",
   "metadata": {},
   "source": [
    "## Working with Structs in Go"
   ]
  },
  {
   "cell_type": "code",
   "execution_count": 7,
   "id": "ef9e658e-ed8d-44b3-b2ca-041124fe2a91",
   "metadata": {},
   "outputs": [
    {
     "name": "stdout",
     "output_type": "stream",
     "text": [
      "{Matt 42}\n",
      "{tim 42}\n"
     ]
    }
   ],
   "source": [
    "package main\n",
    "import (\n",
    "    \"fmt\"\n",
    ")\n",
    "\n",
    "type person struct {\n",
    "    name string\n",
    "    age int\n",
    "}\n",
    "\n",
    "func main() {\n",
    "    var myPerson = person{ name: \"Matt\", age: 42 }\n",
    "    otherPerson := myPerson\n",
    "    otherPerson.name = \"tim\"\n",
    "\n",
    "    fmt.Println(myPerson)\n",
    "    fmt.Println(otherPerson)\n",
    "}"
   ]
  },
  {
   "cell_type": "code",
   "execution_count": 33,
   "id": "d7c31f09-7e99-4438-afa6-9cb244a599ee",
   "metadata": {},
   "outputs": [
    {
     "name": "stdout",
     "output_type": "stream",
     "text": [
      "Please select an option\n",
      "1) Print menu\n",
      "2) Coffee\n",
      "\tMedium\t1.80\n",
      "\tLarge\t1.90\n",
      "\tSmall\t1.56\n",
      "3) Tea\n",
      "\tSmall\t1.20\n",
      "\tMedium\t1.30\n",
      "\tLarge\t1.50\n"
     ]
    }
   ],
   "source": [
    "package main\n",
    "import (\n",
    "    \"fmt\"\n",
    "    \"bufio\"\n",
    "    \"io\"\n",
    "    \"os\"\n",
    "    \"strings\"\n",
    ")\n",
    "\n",
    "type person struct {\n",
    "    name string\n",
    "    age int\n",
    "}\n",
    "type menuItem struct {\n",
    "    name string\n",
    "    prices map[string]float64\n",
    "}\n",
    "\n",
    "func main() {\n",
    "    fmt.Println(\"Please select an option\")\n",
    "    fmt.Println(\"1) Print menu\")\n",
    "\n",
    "    menu :=  []menuItem {\n",
    "        { name: \"Coffee\", prices:  map[string]float64{\"Small\":1.56, \"Medium\": 1.80, \"Large\": 1.90}},\n",
    "        { name: \"Tea\", prices:  map[string]float64{\"Small\":1.20, \"Medium\": 1.30, \"Large\": 1.50}},\n",
    "    }\n",
    "    //fmt.Println(menu)\n",
    "\n",
    "    for idx, item := range menu {\n",
    "        fmt.Println(fmt.Sprintf(\"%d) %s\", idx+2, item.name))\n",
    "        for priceLabel, cost := range item.prices {\n",
    "            fmt.Println(fmt.Sprintf(\"\\t%s\\t%.2f\", priceLabel, cost))\n",
    "        }\n",
    "    }\n",
    "    \n",
    "    // in := bufio.NewReader(os.Stdin)\n",
    "    // choice, _ := in.ReadString('\\n')\n",
    "    // choice = strings.TrimSpace(choice)\n",
    "    // fmt.Println(choice)\n",
    "}"
   ]
  },
  {
   "cell_type": "code",
   "execution_count": null,
   "id": "e6106afb-2d3c-4cb7-b9e2-b87ced384c87",
   "metadata": {},
   "outputs": [],
   "source": []
  }
 ],
 "metadata": {
  "kernelspec": {
   "display_name": "Go (gonb)",
   "language": "go",
   "name": "gonb"
  },
  "language_info": {
   "codemirror_mode": "",
   "file_extension": ".go",
   "mimetype": "",
   "name": "go",
   "nbconvert_exporter": "",
   "pygments_lexer": "",
   "version": "go1.22.5"
  }
 },
 "nbformat": 4,
 "nbformat_minor": 5
}
